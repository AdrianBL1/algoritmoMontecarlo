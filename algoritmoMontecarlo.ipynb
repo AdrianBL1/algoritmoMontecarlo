{
  "nbformat": 4,
  "nbformat_minor": 0,
  "metadata": {
    "colab": {
      "name": "algoritmoMontecarlo.ipynb",
      "provenance": [],
      "collapsed_sections": [],
      "authorship_tag": "ABX9TyM0eIytGEfq6oEOQniVir+J",
      "include_colab_link": true
    },
    "kernelspec": {
      "name": "ir",
      "display_name": "R"
    },
    "language_info": {
      "name": "R"
    }
  },
  "cells": [
    {
      "cell_type": "markdown",
      "metadata": {
        "id": "view-in-github",
        "colab_type": "text"
      },
      "source": [
        "<a href=\"https://colab.research.google.com/github/AdrianBL1/algoritmoMontecarlo/blob/main/algoritmoMontecarlo.ipynb\" target=\"_parent\"><img src=\"https://colab.research.google.com/assets/colab-badge.svg\" alt=\"Open In Colab\"/></a>"
      ]
    },
    {
      "cell_type": "code",
      "execution_count": 29,
      "metadata": {
        "id": "2MqmbC_Kx44i"
      },
      "outputs": [],
      "source": [
        "#Semilla\n",
        "set.seed(2543)\n",
        "x=1:6; #Cantidad de Números\n",
        "n.sim = 1000 #Número de simulaciones"
      ]
    },
    {
      "cell_type": "code",
      "source": [
        "#Simulacion de la ruleta\n",
        "rul = vector()\n",
        "for (i in 1:n.sim){\n",
        "  rul[i] = sample(x,1,replace = TRUE)\n",
        "}"
      ],
      "metadata": {
        "id": "vMTn2PsPzNRN"
      },
      "execution_count": 30,
      "outputs": []
    },
    {
      "cell_type": "code",
      "source": [
        "#Impresion de los resultados\n",
        "print(rul)"
      ],
      "metadata": {
        "colab": {
          "base_uri": "https://localhost:8080/"
        },
        "id": "awaJhw9oz42d",
        "outputId": "a236c8fb-290e-487a-a90d-3bb7bf17b437"
      },
      "execution_count": 31,
      "outputs": [
        {
          "output_type": "stream",
          "name": "stdout",
          "text": [
            "   [1] 6 3 4 2 4 4 4 6 5 4 1 3 3 2 4 2 4 2 6 2 3 6 6 3 2 5 6 2 5 2 4 5 2 4 2 6 1\n",
            "  [38] 6 1 6 3 1 2 5 4 3 1 2 1 5 4 3 6 6 6 5 3 1 1 1 2 5 3 5 2 5 5 2 4 3 5 5 5 1\n",
            "  [75] 5 5 5 5 6 4 6 3 3 1 2 4 3 2 6 1 5 6 3 2 2 3 1 2 6 3 4 2 4 1 5 5 3 5 3 3 4\n",
            " [112] 4 4 1 1 1 3 2 1 4 5 5 5 2 1 2 2 6 5 6 1 6 3 6 1 5 3 2 1 1 1 6 5 6 1 6 6 4\n",
            " [149] 2 6 4 6 1 4 2 6 4 3 4 5 5 2 3 6 4 6 2 4 1 6 5 4 4 4 4 5 3 2 5 5 2 3 5 6 3\n",
            " [186] 3 5 3 5 2 1 1 6 3 5 1 3 3 4 6 4 1 4 2 6 5 1 2 4 3 3 4 5 3 5 1 1 2 3 6 1 6\n",
            " [223] 5 3 1 4 6 6 5 5 1 1 1 1 2 1 6 1 6 5 3 5 6 2 4 5 4 1 4 2 2 5 2 1 2 6 4 2 4\n",
            " [260] 2 1 4 1 5 4 2 6 2 6 6 3 3 1 5 5 6 1 6 1 2 5 6 4 6 5 5 4 5 5 3 6 4 2 1 6 2\n",
            " [297] 5 4 4 3 4 4 6 1 5 4 5 6 6 5 5 4 2 4 3 6 5 5 1 5 4 5 4 2 2 6 5 1 2 5 5 4 4\n",
            " [334] 2 1 4 1 4 4 4 5 4 2 3 6 3 6 2 4 3 6 5 1 6 1 3 6 4 1 5 1 2 2 5 5 6 4 4 2 2\n",
            " [371] 2 3 6 2 1 3 4 5 6 1 4 6 3 3 5 4 2 4 5 3 2 4 2 1 2 4 3 4 1 4 3 4 3 6 4 2 5\n",
            " [408] 6 2 4 2 1 5 4 5 3 4 4 4 3 1 4 4 2 3 5 2 4 2 5 1 3 1 2 4 1 6 2 1 3 5 2 5 5\n",
            " [445] 1 1 2 4 4 2 3 6 1 6 1 4 6 4 6 1 2 6 1 2 2 1 3 4 1 1 6 5 5 1 6 4 4 1 3 2 3\n",
            " [482] 4 6 3 6 3 4 6 3 5 5 6 5 3 2 3 6 1 2 4 6 5 5 2 4 3 2 5 1 1 5 5 2 5 1 5 2 4\n",
            " [519] 6 5 6 4 5 3 6 4 2 1 6 1 6 5 4 5 4 4 5 2 2 4 1 1 3 6 6 4 3 1 3 4 5 4 2 1 4\n",
            " [556] 5 5 1 1 2 5 1 2 3 3 6 4 6 6 2 2 5 5 5 4 1 6 5 6 5 2 5 4 4 1 2 1 1 6 5 5 6\n",
            " [593] 3 3 5 2 1 2 3 1 4 3 2 4 5 1 2 3 2 3 4 1 2 6 5 2 4 1 6 5 6 2 5 4 1 2 3 4 1\n",
            " [630] 5 3 2 1 5 1 3 1 5 6 6 1 6 1 4 4 6 2 5 6 5 4 3 5 5 1 1 4 6 6 5 2 5 6 5 5 4\n",
            " [667] 3 6 3 3 4 4 2 5 3 1 6 4 4 4 2 5 4 4 6 4 6 3 5 6 1 1 6 4 1 2 2 2 3 5 2 3 1\n",
            " [704] 6 5 3 1 2 6 6 5 5 2 3 5 1 3 6 2 5 3 6 2 6 6 4 5 2 6 1 4 3 2 5 6 5 3 1 1 2\n",
            " [741] 1 3 3 6 4 6 3 6 4 4 1 5 6 5 6 1 4 5 2 6 5 5 5 3 2 2 4 6 1 2 1 6 4 2 2 3 5\n",
            " [778] 5 5 2 3 1 2 2 1 1 2 6 2 3 6 1 6 4 3 3 6 1 5 2 4 3 2 1 5 1 1 6 1 3 6 3 4 3\n",
            " [815] 1 4 2 1 3 4 5 6 2 2 5 3 5 2 2 1 3 1 2 3 3 1 1 4 3 4 1 1 2 6 2 5 6 2 1 5 3\n",
            " [852] 1 6 3 1 6 6 6 2 2 1 3 1 2 1 3 2 5 1 3 1 6 2 4 3 3 1 3 2 6 5 2 2 6 6 3 4 5\n",
            " [889] 3 2 2 6 1 3 6 5 4 4 5 1 1 1 2 3 3 2 1 4 2 2 6 6 5 1 3 4 2 2 3 2 1 4 2 1 6\n",
            " [926] 6 6 5 2 4 1 6 1 5 2 6 4 2 6 4 3 5 1 4 6 5 4 2 4 4 2 5 5 6 5 4 4 5 2 6 2 6\n",
            " [963] 6 3 6 4 5 3 4 3 2 6 2 1 6 5 5 1 2 3 1 6 2 1 2 6 2 6 6 3 4 3 2 6 1 6 1 2 4\n",
            "[1000] 2\n"
          ]
        }
      ]
    },
    {
      "cell_type": "code",
      "source": [
        "#Tabla de resultados\n",
        "freq = as.data.frame (table(rul))\n",
        "print(freq)"
      ],
      "metadata": {
        "colab": {
          "base_uri": "https://localhost:8080/"
        },
        "id": "0PLkxsy20UVS",
        "outputId": "6f401280-a113-4a74-9619-f689bbc9330d"
      },
      "execution_count": 32,
      "outputs": [
        {
          "output_type": "stream",
          "name": "stdout",
          "text": [
            "  rul Freq\n",
            "1   1  169\n",
            "2   2  178\n",
            "3   3  141\n",
            "4   4  167\n",
            "5   5  174\n",
            "6   6  171\n"
          ]
        }
      ]
    },
    {
      "cell_type": "code",
      "source": [
        "#Histograma de los resultados\n",
        "hist(freq$Freq, col = \"skyblue\", xlab = \"Valores de la ruleta\", ylab = \"Frecuencia\")"
      ],
      "metadata": {
        "colab": {
          "base_uri": "https://localhost:8080/",
          "height": 437
        },
        "id": "xNoFUDYg0xa7",
        "outputId": "088d4881-ffbb-40e9-c68d-7bcad56763bd"
      },
      "execution_count": 33,
      "outputs": [
        {
          "output_type": "display_data",
          "data": {
            "text/plain": [
              "Plot with title “Histogram of freq$Freq”"
            ],
            "image/png": "[encoded data removed]"
          },
          "metadata": {
            "image/png": {
              "width": 420,
              "height": 420
            }
          }
        }
      ]
    },
    {
      "cell_type": "code",
      "source": [
        "#Moda\n",
        "moda = function(x){\n",
        "  return(as.numeric(names(which.max(table(x)))))\n",
        "}\n",
        "max.freq = moda(rul)\n",
        "print(max.freq)"
      ],
      "metadata": {
        "colab": {
          "base_uri": "https://localhost:8080/"
        },
        "id": "9qALg8rh1499",
        "outputId": "52b00ef7-bd44-4c65-8b33-850ab7a1e91d"
      },
      "execution_count": 34,
      "outputs": [
        {
          "output_type": "stream",
          "name": "stdout",
          "text": [
            "[1] 2\n"
          ]
        }
      ]
    }
  ]
}